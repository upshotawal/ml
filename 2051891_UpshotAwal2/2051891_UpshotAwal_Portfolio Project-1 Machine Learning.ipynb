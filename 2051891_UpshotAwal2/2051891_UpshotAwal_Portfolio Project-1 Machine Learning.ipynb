{
 "cells": [
  {
   "cell_type": "markdown",
   "id": "b601ec63",
   "metadata": {},
   "source": [
    "# Importing and Reading Dataset"
   ]
  },
  {
   "cell_type": "code",
   "execution_count": 1,
   "id": "74d71310",
   "metadata": {},
   "outputs": [],
   "source": [
    "import numpy as np\n",
    "import pandas as pd\n",
    "import matplotlib.pyplot as plt\n",
    "import seaborn as sns\n",
    "\n"
   ]
  },
  {
   "cell_type": "markdown",
   "id": "c91e169c",
   "metadata": {},
   "source": [
    "# About The Dataset "
   ]
  },
  {
   "cell_type": "markdown",
   "id": "6f14bc20",
   "metadata": {},
   "source": [
    "This datasets is related to red variants of the Portuguese \"Vinho Verde\" wine. For more details, consult the reference [Cortez et al., 2009]. Due to privacy and logistic issues, only physicochemical (inputs) and sensory (the output) variables are available (e.g. there is no data about grape types, wine brand, wine selling price, etc.).</br></br>\n",
    "\n",
    "The datasets can be viewed as classification or regression tasks. The classes are ordered and not balanced (e.g. there are much more normal wines than excellent or poor ones).</br></br>\n",
    "\n",
    "Content</br></br>\n",
    "\n",
    "For more information</br>\n",
    "Input variables (based on physicochemical tests):</br>\n",
    "1 - fixed acidity</br>\n",
    "2 - volatile acidity</br>\n",
    "3 - citric acid</br>\n",
    "4 - residual sugar</br>\n",
    "5 - chlorides</br>\n",
    "6 - free sulfur dioxide</br>\n",
    "7 - total sulfur dioxide</br>\n",
    "8 - density</br>\n",
    "9 - pH</br>\n",
    "10 - sulphates</br>\n",
    "11 - alcohol</br>\n",
    "Output variable (based on sensory data):</br>\n",
    "12 - quality (score between 0 and 10)</br></br></br>"
   ]
  },
  {
   "cell_type": "code",
   "execution_count": 2,
   "id": "64b4060c",
   "metadata": {
    "scrolled": true
   },
   "outputs": [
    {
     "data": {
      "text/html": [
       "<div>\n",
       "<style scoped>\n",
       "    .dataframe tbody tr th:only-of-type {\n",
       "        vertical-align: middle;\n",
       "    }\n",
       "\n",
       "    .dataframe tbody tr th {\n",
       "        vertical-align: top;\n",
       "    }\n",
       "\n",
       "    .dataframe thead th {\n",
       "        text-align: right;\n",
       "    }\n",
       "</style>\n",
       "<table border=\"1\" class=\"dataframe\">\n",
       "  <thead>\n",
       "    <tr style=\"text-align: right;\">\n",
       "      <th></th>\n",
       "      <th>fixed acidity</th>\n",
       "      <th>volatile acidity</th>\n",
       "      <th>citric acid</th>\n",
       "      <th>residual sugar</th>\n",
       "      <th>chlorides</th>\n",
       "      <th>free sulfur dioxide</th>\n",
       "      <th>total sulfur dioxide</th>\n",
       "      <th>density</th>\n",
       "      <th>pH</th>\n",
       "      <th>sulphates</th>\n",
       "      <th>alcohol</th>\n",
       "      <th>quality</th>\n",
       "    </tr>\n",
       "  </thead>\n",
       "  <tbody>\n",
       "    <tr>\n",
       "      <th>1594</th>\n",
       "      <td>6.2</td>\n",
       "      <td>0.600</td>\n",
       "      <td>0.08</td>\n",
       "      <td>2.0</td>\n",
       "      <td>0.090</td>\n",
       "      <td>32.0</td>\n",
       "      <td>44.0</td>\n",
       "      <td>0.99490</td>\n",
       "      <td>3.45</td>\n",
       "      <td>0.58</td>\n",
       "      <td>10.5</td>\n",
       "      <td>5</td>\n",
       "    </tr>\n",
       "    <tr>\n",
       "      <th>1595</th>\n",
       "      <td>5.9</td>\n",
       "      <td>0.550</td>\n",
       "      <td>0.10</td>\n",
       "      <td>2.2</td>\n",
       "      <td>0.062</td>\n",
       "      <td>39.0</td>\n",
       "      <td>51.0</td>\n",
       "      <td>0.99512</td>\n",
       "      <td>3.52</td>\n",
       "      <td>0.76</td>\n",
       "      <td>11.2</td>\n",
       "      <td>6</td>\n",
       "    </tr>\n",
       "    <tr>\n",
       "      <th>1596</th>\n",
       "      <td>6.3</td>\n",
       "      <td>0.510</td>\n",
       "      <td>0.13</td>\n",
       "      <td>2.3</td>\n",
       "      <td>0.076</td>\n",
       "      <td>29.0</td>\n",
       "      <td>40.0</td>\n",
       "      <td>0.99574</td>\n",
       "      <td>3.42</td>\n",
       "      <td>0.75</td>\n",
       "      <td>11.0</td>\n",
       "      <td>6</td>\n",
       "    </tr>\n",
       "    <tr>\n",
       "      <th>1597</th>\n",
       "      <td>5.9</td>\n",
       "      <td>0.645</td>\n",
       "      <td>0.12</td>\n",
       "      <td>2.0</td>\n",
       "      <td>0.075</td>\n",
       "      <td>32.0</td>\n",
       "      <td>44.0</td>\n",
       "      <td>0.99547</td>\n",
       "      <td>3.57</td>\n",
       "      <td>0.71</td>\n",
       "      <td>10.2</td>\n",
       "      <td>5</td>\n",
       "    </tr>\n",
       "    <tr>\n",
       "      <th>1598</th>\n",
       "      <td>6.0</td>\n",
       "      <td>0.310</td>\n",
       "      <td>0.47</td>\n",
       "      <td>3.6</td>\n",
       "      <td>0.067</td>\n",
       "      <td>18.0</td>\n",
       "      <td>42.0</td>\n",
       "      <td>0.99549</td>\n",
       "      <td>3.39</td>\n",
       "      <td>0.66</td>\n",
       "      <td>11.0</td>\n",
       "      <td>6</td>\n",
       "    </tr>\n",
       "  </tbody>\n",
       "</table>\n",
       "</div>"
      ],
      "text/plain": [
       "      fixed acidity  volatile acidity  citric acid  residual sugar  chlorides  \\\n",
       "1594            6.2             0.600         0.08             2.0      0.090   \n",
       "1595            5.9             0.550         0.10             2.2      0.062   \n",
       "1596            6.3             0.510         0.13             2.3      0.076   \n",
       "1597            5.9             0.645         0.12             2.0      0.075   \n",
       "1598            6.0             0.310         0.47             3.6      0.067   \n",
       "\n",
       "      free sulfur dioxide  total sulfur dioxide  density    pH  sulphates  \\\n",
       "1594                 32.0                  44.0  0.99490  3.45       0.58   \n",
       "1595                 39.0                  51.0  0.99512  3.52       0.76   \n",
       "1596                 29.0                  40.0  0.99574  3.42       0.75   \n",
       "1597                 32.0                  44.0  0.99547  3.57       0.71   \n",
       "1598                 18.0                  42.0  0.99549  3.39       0.66   \n",
       "\n",
       "      alcohol  quality  \n",
       "1594     10.5        5  \n",
       "1595     11.2        6  \n",
       "1596     11.0        6  \n",
       "1597     10.2        5  \n",
       "1598     11.0        6  "
      ]
     },
     "execution_count": 2,
     "metadata": {},
     "output_type": "execute_result"
    }
   ],
   "source": [
    "df = pd.read_csv('winequality-red.csv')\n",
    "df.tail()"
   ]
  },
  {
   "cell_type": "code",
   "execution_count": 3,
   "id": "7e9a880c",
   "metadata": {},
   "outputs": [
    {
     "data": {
      "text/plain": [
       "Index(['fixed acidity', 'volatile acidity', 'citric acid', 'residual sugar',\n",
       "       'chlorides', 'free sulfur dioxide', 'total sulfur dioxide', 'density',\n",
       "       'pH', 'sulphates', 'alcohol', 'quality'],\n",
       "      dtype='object')"
      ]
     },
     "execution_count": 3,
     "metadata": {},
     "output_type": "execute_result"
    }
   ],
   "source": [
    "df.columns"
   ]
  },
  {
   "cell_type": "code",
   "execution_count": 4,
   "id": "d7366e67",
   "metadata": {},
   "outputs": [
    {
     "name": "stdout",
     "output_type": "stream",
     "text": [
      "The size of the dataframe is: (1599, 12)\n"
     ]
    }
   ],
   "source": [
    "print(\"The size of the dataframe is:\",df.shape)"
   ]
  },
  {
   "cell_type": "code",
   "execution_count": 5,
   "id": "206e5809",
   "metadata": {},
   "outputs": [
    {
     "name": "stdout",
     "output_type": "stream",
     "text": [
      "<class 'pandas.core.frame.DataFrame'>\n",
      "RangeIndex: 1599 entries, 0 to 1598\n",
      "Data columns (total 12 columns):\n",
      " #   Column                Non-Null Count  Dtype  \n",
      "---  ------                --------------  -----  \n",
      " 0   fixed acidity         1599 non-null   float64\n",
      " 1   volatile acidity      1599 non-null   float64\n",
      " 2   citric acid           1599 non-null   float64\n",
      " 3   residual sugar        1599 non-null   float64\n",
      " 4   chlorides             1599 non-null   float64\n",
      " 5   free sulfur dioxide   1599 non-null   float64\n",
      " 6   total sulfur dioxide  1599 non-null   float64\n",
      " 7   density               1599 non-null   float64\n",
      " 8   pH                    1599 non-null   float64\n",
      " 9   sulphates             1599 non-null   float64\n",
      " 10  alcohol               1599 non-null   float64\n",
      " 11  quality               1599 non-null   int64  \n",
      "dtypes: float64(11), int64(1)\n",
      "memory usage: 150.0 KB\n"
     ]
    }
   ],
   "source": [
    "df.info()"
   ]
  },
  {
   "cell_type": "code",
   "execution_count": 6,
   "id": "c2f05701",
   "metadata": {},
   "outputs": [
    {
     "data": {
      "text/html": [
       "<div>\n",
       "<style scoped>\n",
       "    .dataframe tbody tr th:only-of-type {\n",
       "        vertical-align: middle;\n",
       "    }\n",
       "\n",
       "    .dataframe tbody tr th {\n",
       "        vertical-align: top;\n",
       "    }\n",
       "\n",
       "    .dataframe thead th {\n",
       "        text-align: right;\n",
       "    }\n",
       "</style>\n",
       "<table border=\"1\" class=\"dataframe\">\n",
       "  <thead>\n",
       "    <tr style=\"text-align: right;\">\n",
       "      <th></th>\n",
       "      <th>fixed acidity</th>\n",
       "      <th>volatile acidity</th>\n",
       "      <th>citric acid</th>\n",
       "      <th>residual sugar</th>\n",
       "      <th>chlorides</th>\n",
       "      <th>free sulfur dioxide</th>\n",
       "      <th>total sulfur dioxide</th>\n",
       "      <th>density</th>\n",
       "      <th>pH</th>\n",
       "      <th>sulphates</th>\n",
       "      <th>alcohol</th>\n",
       "      <th>quality</th>\n",
       "    </tr>\n",
       "  </thead>\n",
       "  <tbody>\n",
       "    <tr>\n",
       "      <th>count</th>\n",
       "      <td>1599.000000</td>\n",
       "      <td>1599.000000</td>\n",
       "      <td>1599.000000</td>\n",
       "      <td>1599.000000</td>\n",
       "      <td>1599.000000</td>\n",
       "      <td>1599.000000</td>\n",
       "      <td>1599.000000</td>\n",
       "      <td>1599.000000</td>\n",
       "      <td>1599.000000</td>\n",
       "      <td>1599.000000</td>\n",
       "      <td>1599.000000</td>\n",
       "      <td>1599.000000</td>\n",
       "    </tr>\n",
       "    <tr>\n",
       "      <th>mean</th>\n",
       "      <td>8.319637</td>\n",
       "      <td>0.527821</td>\n",
       "      <td>0.270976</td>\n",
       "      <td>2.538806</td>\n",
       "      <td>0.087467</td>\n",
       "      <td>15.874922</td>\n",
       "      <td>46.467792</td>\n",
       "      <td>0.996747</td>\n",
       "      <td>3.311113</td>\n",
       "      <td>0.658149</td>\n",
       "      <td>10.422983</td>\n",
       "      <td>5.636023</td>\n",
       "    </tr>\n",
       "    <tr>\n",
       "      <th>std</th>\n",
       "      <td>1.741096</td>\n",
       "      <td>0.179060</td>\n",
       "      <td>0.194801</td>\n",
       "      <td>1.409928</td>\n",
       "      <td>0.047065</td>\n",
       "      <td>10.460157</td>\n",
       "      <td>32.895324</td>\n",
       "      <td>0.001887</td>\n",
       "      <td>0.154386</td>\n",
       "      <td>0.169507</td>\n",
       "      <td>1.065668</td>\n",
       "      <td>0.807569</td>\n",
       "    </tr>\n",
       "    <tr>\n",
       "      <th>min</th>\n",
       "      <td>4.600000</td>\n",
       "      <td>0.120000</td>\n",
       "      <td>0.000000</td>\n",
       "      <td>0.900000</td>\n",
       "      <td>0.012000</td>\n",
       "      <td>1.000000</td>\n",
       "      <td>6.000000</td>\n",
       "      <td>0.990070</td>\n",
       "      <td>2.740000</td>\n",
       "      <td>0.330000</td>\n",
       "      <td>8.400000</td>\n",
       "      <td>3.000000</td>\n",
       "    </tr>\n",
       "    <tr>\n",
       "      <th>25%</th>\n",
       "      <td>7.100000</td>\n",
       "      <td>0.390000</td>\n",
       "      <td>0.090000</td>\n",
       "      <td>1.900000</td>\n",
       "      <td>0.070000</td>\n",
       "      <td>7.000000</td>\n",
       "      <td>22.000000</td>\n",
       "      <td>0.995600</td>\n",
       "      <td>3.210000</td>\n",
       "      <td>0.550000</td>\n",
       "      <td>9.500000</td>\n",
       "      <td>5.000000</td>\n",
       "    </tr>\n",
       "    <tr>\n",
       "      <th>50%</th>\n",
       "      <td>7.900000</td>\n",
       "      <td>0.520000</td>\n",
       "      <td>0.260000</td>\n",
       "      <td>2.200000</td>\n",
       "      <td>0.079000</td>\n",
       "      <td>14.000000</td>\n",
       "      <td>38.000000</td>\n",
       "      <td>0.996750</td>\n",
       "      <td>3.310000</td>\n",
       "      <td>0.620000</td>\n",
       "      <td>10.200000</td>\n",
       "      <td>6.000000</td>\n",
       "    </tr>\n",
       "    <tr>\n",
       "      <th>75%</th>\n",
       "      <td>9.200000</td>\n",
       "      <td>0.640000</td>\n",
       "      <td>0.420000</td>\n",
       "      <td>2.600000</td>\n",
       "      <td>0.090000</td>\n",
       "      <td>21.000000</td>\n",
       "      <td>62.000000</td>\n",
       "      <td>0.997835</td>\n",
       "      <td>3.400000</td>\n",
       "      <td>0.730000</td>\n",
       "      <td>11.100000</td>\n",
       "      <td>6.000000</td>\n",
       "    </tr>\n",
       "    <tr>\n",
       "      <th>max</th>\n",
       "      <td>15.900000</td>\n",
       "      <td>1.580000</td>\n",
       "      <td>1.000000</td>\n",
       "      <td>15.500000</td>\n",
       "      <td>0.611000</td>\n",
       "      <td>72.000000</td>\n",
       "      <td>289.000000</td>\n",
       "      <td>1.003690</td>\n",
       "      <td>4.010000</td>\n",
       "      <td>2.000000</td>\n",
       "      <td>14.900000</td>\n",
       "      <td>8.000000</td>\n",
       "    </tr>\n",
       "  </tbody>\n",
       "</table>\n",
       "</div>"
      ],
      "text/plain": [
       "       fixed acidity  volatile acidity  citric acid  residual sugar  \\\n",
       "count    1599.000000       1599.000000  1599.000000     1599.000000   \n",
       "mean        8.319637          0.527821     0.270976        2.538806   \n",
       "std         1.741096          0.179060     0.194801        1.409928   \n",
       "min         4.600000          0.120000     0.000000        0.900000   \n",
       "25%         7.100000          0.390000     0.090000        1.900000   \n",
       "50%         7.900000          0.520000     0.260000        2.200000   \n",
       "75%         9.200000          0.640000     0.420000        2.600000   \n",
       "max        15.900000          1.580000     1.000000       15.500000   \n",
       "\n",
       "         chlorides  free sulfur dioxide  total sulfur dioxide      density  \\\n",
       "count  1599.000000          1599.000000           1599.000000  1599.000000   \n",
       "mean      0.087467            15.874922             46.467792     0.996747   \n",
       "std       0.047065            10.460157             32.895324     0.001887   \n",
       "min       0.012000             1.000000              6.000000     0.990070   \n",
       "25%       0.070000             7.000000             22.000000     0.995600   \n",
       "50%       0.079000            14.000000             38.000000     0.996750   \n",
       "75%       0.090000            21.000000             62.000000     0.997835   \n",
       "max       0.611000            72.000000            289.000000     1.003690   \n",
       "\n",
       "                pH    sulphates      alcohol      quality  \n",
       "count  1599.000000  1599.000000  1599.000000  1599.000000  \n",
       "mean      3.311113     0.658149    10.422983     5.636023  \n",
       "std       0.154386     0.169507     1.065668     0.807569  \n",
       "min       2.740000     0.330000     8.400000     3.000000  \n",
       "25%       3.210000     0.550000     9.500000     5.000000  \n",
       "50%       3.310000     0.620000    10.200000     6.000000  \n",
       "75%       3.400000     0.730000    11.100000     6.000000  \n",
       "max       4.010000     2.000000    14.900000     8.000000  "
      ]
     },
     "execution_count": 6,
     "metadata": {},
     "output_type": "execute_result"
    }
   ],
   "source": [
    "df.describe()"
   ]
  },
  {
   "cell_type": "code",
   "execution_count": 7,
   "id": "a970a87e",
   "metadata": {},
   "outputs": [],
   "source": [
    "import warnings\n",
    "warnings.filterwarnings('ignore')"
   ]
  },
  {
   "cell_type": "code",
   "execution_count": 8,
   "id": "eb4d03b1",
   "metadata": {},
   "outputs": [
    {
     "data": {
      "image/png": "[encoded data removed]",
      "text/plain": [
       "<Figure size 1440x1080 with 12 Axes>"
      ]
     },
     "metadata": {
      "needs_background": "light"
     },
     "output_type": "display_data"
    }
   ],
   "source": [
    "# histogram to see distribution of numerical features\n",
    "df.hist(bins=50, figsize=(20,15));"
   ]
  },
  {
   "cell_type": "markdown",
   "id": "19673f72",
   "metadata": {},
   "source": [
    "# Observation from Histrogram plots"
   ]
  },
  {
   "cell_type": "markdown",
   "id": "d0381721",
   "metadata": {},
   "source": [
    "<h4>Here we have 12 different attributes which gives us the quality of red-wine</h4></br>\n",
    "from the above hist plot we can see that fixed acid, pH, density and alcohol have muntain shaped plots which means data has less ouliars</br>\n",
    "unlike attributes like sulphate, chlorides, residual sugar and other attributes which is shifter towards the left end have more ouliars so we can remove those outliars and check using boxplot"
   ]
  },
  {
   "cell_type": "code",
   "execution_count": 9,
   "id": "c4447188",
   "metadata": {},
   "outputs": [
    {
     "name": "stdout",
     "output_type": "stream",
     "text": [
      "There are 12 numerical variables\n",
      "\n",
      "The numerical variables are : ['fixed acidity', 'volatile acidity', 'citric acid', 'residual sugar', 'chlorides', 'free sulfur dioxide', 'total sulfur dioxide', 'density', 'pH', 'sulphates', 'alcohol', 'quality']\n"
     ]
    }
   ],
   "source": [
    "numerical = [var for var in df.columns if df[var].dtype!='O']\n",
    "\n",
    "print('There are {} numerical variables\\n'.format(len(numerical)))\n",
    "\n",
    "print('The numerical variables are :', numerical)"
   ]
  },
  {
   "cell_type": "code",
   "execution_count": 10,
   "id": "aa2469cb",
   "metadata": {},
   "outputs": [
    {
     "data": {
      "text/html": [
       "<div>\n",
       "<style scoped>\n",
       "    .dataframe tbody tr th:only-of-type {\n",
       "        vertical-align: middle;\n",
       "    }\n",
       "\n",
       "    .dataframe tbody tr th {\n",
       "        vertical-align: top;\n",
       "    }\n",
       "\n",
       "    .dataframe thead th {\n",
       "        text-align: right;\n",
       "    }\n",
       "</style>\n",
       "<table border=\"1\" class=\"dataframe\">\n",
       "  <thead>\n",
       "    <tr style=\"text-align: right;\">\n",
       "      <th></th>\n",
       "      <th>fixed acidity</th>\n",
       "      <th>volatile acidity</th>\n",
       "      <th>citric acid</th>\n",
       "      <th>residual sugar</th>\n",
       "      <th>chlorides</th>\n",
       "      <th>free sulfur dioxide</th>\n",
       "      <th>total sulfur dioxide</th>\n",
       "      <th>density</th>\n",
       "      <th>pH</th>\n",
       "      <th>sulphates</th>\n",
       "      <th>alcohol</th>\n",
       "      <th>quality</th>\n",
       "    </tr>\n",
       "  </thead>\n",
       "  <tbody>\n",
       "    <tr>\n",
       "      <th>0</th>\n",
       "      <td>7.4</td>\n",
       "      <td>0.70</td>\n",
       "      <td>0.00</td>\n",
       "      <td>1.9</td>\n",
       "      <td>0.076</td>\n",
       "      <td>11.0</td>\n",
       "      <td>34.0</td>\n",
       "      <td>0.9978</td>\n",
       "      <td>3.51</td>\n",
       "      <td>0.56</td>\n",
       "      <td>9.4</td>\n",
       "      <td>5</td>\n",
       "    </tr>\n",
       "    <tr>\n",
       "      <th>1</th>\n",
       "      <td>7.8</td>\n",
       "      <td>0.88</td>\n",
       "      <td>0.00</td>\n",
       "      <td>2.6</td>\n",
       "      <td>0.098</td>\n",
       "      <td>25.0</td>\n",
       "      <td>67.0</td>\n",
       "      <td>0.9968</td>\n",
       "      <td>3.20</td>\n",
       "      <td>0.68</td>\n",
       "      <td>9.8</td>\n",
       "      <td>5</td>\n",
       "    </tr>\n",
       "    <tr>\n",
       "      <th>2</th>\n",
       "      <td>7.8</td>\n",
       "      <td>0.76</td>\n",
       "      <td>0.04</td>\n",
       "      <td>2.3</td>\n",
       "      <td>0.092</td>\n",
       "      <td>15.0</td>\n",
       "      <td>54.0</td>\n",
       "      <td>0.9970</td>\n",
       "      <td>3.26</td>\n",
       "      <td>0.65</td>\n",
       "      <td>9.8</td>\n",
       "      <td>5</td>\n",
       "    </tr>\n",
       "    <tr>\n",
       "      <th>3</th>\n",
       "      <td>11.2</td>\n",
       "      <td>0.28</td>\n",
       "      <td>0.56</td>\n",
       "      <td>1.9</td>\n",
       "      <td>0.075</td>\n",
       "      <td>17.0</td>\n",
       "      <td>60.0</td>\n",
       "      <td>0.9980</td>\n",
       "      <td>3.16</td>\n",
       "      <td>0.58</td>\n",
       "      <td>9.8</td>\n",
       "      <td>6</td>\n",
       "    </tr>\n",
       "    <tr>\n",
       "      <th>4</th>\n",
       "      <td>7.4</td>\n",
       "      <td>0.70</td>\n",
       "      <td>0.00</td>\n",
       "      <td>1.9</td>\n",
       "      <td>0.076</td>\n",
       "      <td>11.0</td>\n",
       "      <td>34.0</td>\n",
       "      <td>0.9978</td>\n",
       "      <td>3.51</td>\n",
       "      <td>0.56</td>\n",
       "      <td>9.4</td>\n",
       "      <td>5</td>\n",
       "    </tr>\n",
       "  </tbody>\n",
       "</table>\n",
       "</div>"
      ],
      "text/plain": [
       "   fixed acidity  volatile acidity  citric acid  residual sugar  chlorides  \\\n",
       "0            7.4              0.70         0.00             1.9      0.076   \n",
       "1            7.8              0.88         0.00             2.6      0.098   \n",
       "2            7.8              0.76         0.04             2.3      0.092   \n",
       "3           11.2              0.28         0.56             1.9      0.075   \n",
       "4            7.4              0.70         0.00             1.9      0.076   \n",
       "\n",
       "   free sulfur dioxide  total sulfur dioxide  density    pH  sulphates  \\\n",
       "0                 11.0                  34.0   0.9978  3.51       0.56   \n",
       "1                 25.0                  67.0   0.9968  3.20       0.68   \n",
       "2                 15.0                  54.0   0.9970  3.26       0.65   \n",
       "3                 17.0                  60.0   0.9980  3.16       0.58   \n",
       "4                 11.0                  34.0   0.9978  3.51       0.56   \n",
       "\n",
       "   alcohol  quality  \n",
       "0      9.4        5  \n",
       "1      9.8        5  \n",
       "2      9.8        5  \n",
       "3      9.8        6  \n",
       "4      9.4        5  "
      ]
     },
     "execution_count": 10,
     "metadata": {},
     "output_type": "execute_result"
    }
   ],
   "source": [
    "df[numerical].head()"
   ]
  },
  {
   "cell_type": "code",
   "execution_count": 11,
   "id": "7133faec",
   "metadata": {},
   "outputs": [
    {
     "data": {
      "text/plain": [
       "fixed acidity           0\n",
       "volatile acidity        0\n",
       "citric acid             0\n",
       "residual sugar          0\n",
       "chlorides               0\n",
       "free sulfur dioxide     0\n",
       "total sulfur dioxide    0\n",
       "density                 0\n",
       "pH                      0\n",
       "sulphates               0\n",
       "alcohol                 0\n",
       "quality                 0\n",
       "dtype: int64"
      ]
     },
     "execution_count": 11,
     "metadata": {},
     "output_type": "execute_result"
    }
   ],
   "source": [
    "df[numerical].isnull().sum()"
   ]
  },
  {
   "cell_type": "markdown",
   "id": "591186ee",
   "metadata": {},
   "source": [
    "# Box plot for Finding Outliers"
   ]
  },
  {
   "cell_type": "code",
   "execution_count": 12,
   "id": "0f4bd57d",
   "metadata": {},
   "outputs": [
    {
     "data": {
      "image/png": "[encoded data removed]",
      "text/plain": [
       "<Figure size 1440x1080 with 12 Axes>"
      ]
     },
     "metadata": {
      "needs_background": "light"
     },
     "output_type": "display_data"
    }
   ],
   "source": [
    "import matplotlib.pyplot as plt\n",
    "import seaborn as sns\n",
    "plt.figure(figsize = (20, 15))\n",
    "for i in range (len(df.columns)):\n",
    "    plt.subplot(2, 6, i+1)\n",
    "    sns.boxplot(x = df.iloc[:, i])\n",
    "    plt.xlabel(df.columns[i], size = 12)"
   ]
  },
  {
   "cell_type": "code",
   "execution_count": 13,
   "id": "afbd6330",
   "metadata": {},
   "outputs": [],
   "source": [
    "# treat the outliers \n",
    "def Outliers(df, feature):\n",
    "    IQ1 = df[feature].quantile(0.25)\n",
    "    IQ3 = df[feature].quantile(0.75)\n",
    "    IQR = IQ3 - IQ1\n",
    "    \n",
    "    lower_bound = IQ1 - 1.5 * IQR\n",
    "    upper_bound = IQ3 + 1.5 * IQR\n",
    "    \n",
    "    index = df.index[ (df[feature] < lower_bound) | (df[feature] > upper_bound) ]\n",
    "    return index"
   ]
  },
  {
   "cell_type": "code",
   "execution_count": 14,
   "id": "b58b9ec3",
   "metadata": {},
   "outputs": [
    {
     "name": "stdout",
     "output_type": "stream",
     "text": [
      "Total number of outliers are 420\n"
     ]
    },
    {
     "data": {
      "text/plain": [
       "(1179, 12)"
      ]
     },
     "execution_count": 14,
     "metadata": {},
     "output_type": "execute_result"
    }
   ],
   "source": [
    "index = []\n",
    "for i in df.columns:\n",
    "    index.extend(Outliers(df, i))\n",
    "index = set(index)\n",
    "print(\"Total number of outliers are {}\".format(len(index)))\n",
    "\n",
    "# Dropping all the outliers\n",
    "df.drop(index, inplace = True, axis = 0)\n",
    "df.shape"
   ]
  },
  {
   "cell_type": "markdown",
   "id": "803886a3",
   "metadata": {},
   "source": [
    "# Heat Map Ploting"
   ]
  },
  {
   "cell_type": "code",
   "execution_count": 15,
   "id": "11927f46",
   "metadata": {},
   "outputs": [
    {
     "data": {
      "text/plain": [
       "<AxesSubplot:>"
      ]
     },
     "execution_count": 15,
     "metadata": {},
     "output_type": "execute_result"
    },
    {
     "data": {
      "image/png": "[encoded data removed]",
      "text/plain": [
       "<Figure size 720x576 with 2 Axes>"
      ]
     },
     "metadata": {
      "needs_background": "light"
     },
     "output_type": "display_data"
    }
   ],
   "source": [
    "cor = df.corr()\n",
    "plt.figure(figsize = (10,8))\n",
    "sns.heatmap(cor, annot = True)"
   ]
  },
  {
   "cell_type": "markdown",
   "id": "161f49a9",
   "metadata": {},
   "source": [
    "<h3>Using Heat Map we can find how strong is the correlation between different attributes</h3>\n",
    "<h6>i.e. free sulfur dioxide and total sulfur dioxide have correlation value of 0.62 which is high compared to others</h6>\n",
    "<h6>correlation value ranges from -0.6 to 1.0</h6>"
   ]
  },
  {
   "cell_type": "code",
   "execution_count": 16,
   "id": "dc211128",
   "metadata": {},
   "outputs": [],
   "source": [
    "X = df.drop(['quality'],axis=1)\n",
    "y = df['quality']"
   ]
  },
  {
   "cell_type": "code",
   "execution_count": 17,
   "id": "7ae25d7f",
   "metadata": {},
   "outputs": [],
   "source": [
    "# sklean train_test_split()\n",
    "from sklearn.model_selection import train_test_split, GridSearchCV\n",
    "from sklearn.linear_model import LogisticRegression\n",
    "from sklearn.metrics import confusion_matrix, plot_roc_curve, classification_report\n",
    "\n",
    "X_train, X_test, y_train, y_test = train_test_split(X, y, test_size = 0.2)\n",
    "assert X_train.shape[0] == y_train.shape[0]"
   ]
  },
  {
   "cell_type": "code",
   "execution_count": 18,
   "id": "f2af6744",
   "metadata": {},
   "outputs": [
    {
     "name": "stdout",
     "output_type": "stream",
     "text": [
      "Train size: 943\n",
      "Test size:  236\n"
     ]
    }
   ],
   "source": [
    "# see the train and test size\n",
    "\n",
    "print('Train size:', X_train.shape[0])\n",
    "print('Test size: ', X_test.shape[0])"
   ]
  },
  {
   "cell_type": "code",
   "execution_count": 19,
   "id": "08439a8b",
   "metadata": {},
   "outputs": [],
   "source": [
    "# GridSearch CV(parameter tunning)"
   ]
  },
  {
   "cell_type": "code",
   "execution_count": 20,
   "id": "2bff81df",
   "metadata": {},
   "outputs": [],
   "source": [
    "# initializing data dictnory\n",
    "from sklearn.model_selection import GridSearchCV\n",
    "from sklearn.pipeline import Pipeline\n",
    "from sklearn.preprocessing import MinMaxScaler\n",
    "# make dicitionary named param_grid to store the value of hyperparameters you want to check\n",
    "param_grid = [{'knn__n_neighbors': [3, 5, 7],\n",
    "              'knn__weights': ['uniform', 'distance'],\n",
    "               'knn__leaf_size': [15, 20, 30]\n",
    "              }]"
   ]
  },
  {
   "cell_type": "code",
   "execution_count": 21,
   "id": "3f7bba87",
   "metadata": {},
   "outputs": [],
   "source": [
    "#using knn pipeline\n",
    "from sklearn.model_selection import cross_val_score\n",
    "from sklearn.neighbors import KNeighborsClassifier\n",
    "\n",
    "knn_pipe = Pipeline([('mms', MinMaxScaler()),\n",
    "                     ('knn', KNeighborsClassifier())])\n",
    "params = [{'knn__n_neighbors': [3, 5, 7, 9],\n",
    "         'knn__weights': ['uniform', 'distance'],\n",
    "         'knn__leaf_size': [15, 20]}]"
   ]
  },
  {
   "cell_type": "code",
   "execution_count": 22,
   "id": "bff6de66",
   "metadata": {},
   "outputs": [
    {
     "data": {
      "text/plain": [
       "GridSearchCV(cv=5,\n",
       "             estimator=Pipeline(steps=[('mms', MinMaxScaler()),\n",
       "                                       ('knn', KNeighborsClassifier())]),\n",
       "             param_grid=[{'knn__leaf_size': [15, 20],\n",
       "                          'knn__n_neighbors': [3, 5, 7, 9],\n",
       "                          'knn__weights': ['uniform', 'distance']}],\n",
       "             scoring='accuracy')"
      ]
     },
     "execution_count": 22,
     "metadata": {},
     "output_type": "execute_result"
    }
   ],
   "source": [
    "#fitting and tranning the data in knn\n",
    "knn_cv= GridSearchCV(knn_pipe,param_grid=params,scoring='accuracy',cv=5)\n",
    "knn_cv.fit(X_train,y_train)"
   ]
  },
  {
   "cell_type": "code",
   "execution_count": 23,
   "id": "060af4c1",
   "metadata": {},
   "outputs": [
    {
     "data": {
      "text/plain": [
       "0.6734042553191489"
      ]
     },
     "execution_count": 23,
     "metadata": {},
     "output_type": "execute_result"
    }
   ],
   "source": [
    "knn_cv.best_score_"
   ]
  },
  {
   "cell_type": "code",
   "execution_count": 24,
   "id": "280f4e8c",
   "metadata": {},
   "outputs": [
    {
     "data": {
      "text/plain": [
       "{'knn__leaf_size': 15, 'knn__n_neighbors': 9, 'knn__weights': 'distance'}"
      ]
     },
     "execution_count": 24,
     "metadata": {},
     "output_type": "execute_result"
    }
   ],
   "source": [
    "knn_cv.best_params_"
   ]
  },
  {
   "cell_type": "markdown",
   "id": "c5187eec",
   "metadata": {},
   "source": [
    "# Using logistic Regression"
   ]
  },
  {
   "cell_type": "code",
   "execution_count": 25,
   "id": "2febd741",
   "metadata": {},
   "outputs": [
    {
     "data": {
      "text/plain": [
       "LogisticRegression(random_state=0, solver='liblinear')"
      ]
     },
     "execution_count": 25,
     "metadata": {},
     "output_type": "execute_result"
    }
   ],
   "source": [
    "#Fit the model\n",
    "\n",
    "classifier_logreg = LogisticRegression(solver='liblinear', random_state=0)\n",
    "classifier_logreg.fit(X_train, y_train)"
   ]
  },
  {
   "cell_type": "code",
   "execution_count": 26,
   "id": "01a5fd23",
   "metadata": {},
   "outputs": [
    {
     "data": {
      "text/plain": [
       "array([5, 5, 5, 5, 5, 6, 6, 5, 5, 6, 5, 6, 5, 6, 5, 5, 6, 6, 5, 6, 5, 5,\n",
       "       6, 5, 5, 5, 5, 6, 6, 6, 6, 6, 6, 6, 5, 5, 6, 6, 6, 6, 6, 5, 5, 6,\n",
       "       6, 6, 5, 5, 6, 5, 5, 5, 6, 5, 6, 5, 5, 6, 5, 6, 5, 5, 5, 6, 6, 5,\n",
       "       6, 6, 6, 6, 6, 6, 5, 5, 5, 6, 5, 5, 5, 6, 5, 6, 6, 5, 5, 6, 6, 5,\n",
       "       5, 6, 6, 6, 6, 5, 5, 5, 7, 5, 6, 5, 6, 5, 5, 6, 5, 6, 6, 5, 5, 5,\n",
       "       5, 5, 6, 5, 5, 6, 5, 6, 6, 5, 5, 5, 6, 5, 6, 5, 5, 5, 6, 5, 6, 5,\n",
       "       6, 5, 6, 6, 6, 5, 5, 6, 6, 5, 5, 5, 5, 6, 6, 6, 6, 6, 5, 6, 5, 5,\n",
       "       5, 6, 5, 5, 5, 6, 5, 6, 6, 5, 6, 6, 6, 6, 7, 5, 5, 6, 6, 6, 7, 6,\n",
       "       5, 6, 6, 6, 5, 6, 5, 6, 7, 5, 6, 5, 6, 6, 5, 5, 6, 5, 5, 6, 5, 6,\n",
       "       5, 5, 6, 6, 6, 5, 5, 6, 6, 5, 5, 5, 5, 6, 5, 5, 6, 5, 6, 6, 6, 6,\n",
       "       6, 6, 5, 7, 5, 7, 5, 6, 5, 5, 6, 6, 5, 6, 6, 5], dtype=int64)"
      ]
     },
     "execution_count": 26,
     "metadata": {},
     "output_type": "execute_result"
    }
   ],
   "source": [
    "y_pred = classifier_logreg.predict(X_test)\n",
    "y_pred"
   ]
  },
  {
   "cell_type": "code",
   "execution_count": 27,
   "id": "8109406e",
   "metadata": {},
   "outputs": [
    {
     "name": "stdout",
     "output_type": "stream",
     "text": [
      "Accuracy Score: 0.6271186440677966\n"
     ]
    }
   ],
   "source": [
    "from sklearn.metrics import accuracy_score\n",
    "\n",
    "print(\"Accuracy Score: {}\".format(accuracy_score(y_test,y_pred)))"
   ]
  },
  {
   "cell_type": "code",
   "execution_count": 28,
   "id": "d52b92ac",
   "metadata": {},
   "outputs": [
    {
     "name": "stdout",
     "output_type": "stream",
     "text": [
      "Train Data Score: 0.6118769883351007\n",
      "Test Data Score: 0.6271186440677966\n"
     ]
    }
   ],
   "source": [
    "print(\"Train Data Score: {}\".format(classifier_logreg.score(X_train, y_train)))\n",
    "print(\"Test Data Score: {}\".format(classifier_logreg.score(X_test, y_test)))"
   ]
  },
  {
   "cell_type": "code",
   "execution_count": 29,
   "id": "bca3f24d",
   "metadata": {},
   "outputs": [
    {
     "name": "stdout",
     "output_type": "stream",
     "text": [
      "              precision    recall  f1-score   support\n",
      "\n",
      "           4       0.00      0.00      0.00        12\n",
      "           5       0.70      0.77      0.73       107\n",
      "           6       0.56      0.69      0.62        91\n",
      "           7       0.50      0.12      0.19        26\n",
      "\n",
      "    accuracy                           0.63       236\n",
      "   macro avg       0.44      0.39      0.38       236\n",
      "weighted avg       0.59      0.63      0.59       236\n",
      "\n"
     ]
    }
   ],
   "source": [
    "print(classification_report(y_test, y_pred))"
   ]
  },
  {
   "cell_type": "code",
   "execution_count": 30,
   "id": "fa2ca543",
   "metadata": {},
   "outputs": [
    {
     "name": "stdout",
     "output_type": "stream",
     "text": [
      "Cross-validation scores:[0.65254237 0.58474576 0.59322034 0.54237288 0.62711864 0.58474576\n",
      " 0.6440678  0.64102564]\n"
     ]
    }
   ],
   "source": [
    "from sklearn.model_selection import cross_val_score\n",
    "\n",
    "scores = cross_val_score(classifier_logreg, X_train, y_train, cv = 8, scoring='accuracy')\n",
    "\n",
    "print('Cross-validation scores:{}'.format(scores))"
   ]
  },
  {
   "cell_type": "code",
   "execution_count": 31,
   "id": "c4a0aad4",
   "metadata": {},
   "outputs": [
    {
     "name": "stdout",
     "output_type": "stream",
     "text": [
      "Average cross-validation score: 0.6087\n"
     ]
    }
   ],
   "source": [
    "# compute Average cross-validation score\n",
    "\n",
    "print('Average cross-validation score: {:.4f}'.format(scores.mean()))"
   ]
  },
  {
   "cell_type": "code",
   "execution_count": 32,
   "id": "47dd83e4",
   "metadata": {},
   "outputs": [
    {
     "data": {
      "text/plain": [
       "GridSearchCV(cv=3,\n",
       "             estimator=LogisticRegression(random_state=0, solver='liblinear'),\n",
       "             n_jobs=-1,\n",
       "             param_grid={'C': [1, 100000000.0, 1e+16],\n",
       "                         'fit_intercept': [True, False],\n",
       "                         'max_iter': [50, 100, 150], 'random_state': [42]},\n",
       "             scoring='accuracy')"
      ]
     },
     "execution_count": 32,
     "metadata": {},
     "output_type": "execute_result"
    }
   ],
   "source": [
    "#Hyperparameter tuning | Gridsearch CV\n",
    "\n",
    "# Penalty: l1 or l2 which species the norm used in the penalization.\n",
    "# C: Inverse of regularization strength- smaller values of C specify stronger regularization.\n",
    "\n",
    "logreg_params = {\n",
    "    'C': [1, 1e8, 1e16],\n",
    "    'fit_intercept': [True, False],\n",
    "    'max_iter': [50, 100, 150],\n",
    "    'random_state': [42]\n",
    "}\n",
    "\n",
    "logreg_gs = GridSearchCV(classifier_logreg, logreg_params, scoring='accuracy', n_jobs=-1, cv=3)\n",
    "logreg_gs.fit(X_train, y_train)"
   ]
  },
  {
   "cell_type": "code",
   "execution_count": 33,
   "id": "6d852deb",
   "metadata": {},
   "outputs": [
    {
     "data": {
      "text/plain": [
       "{'C': 1, 'fit_intercept': False, 'max_iter': 50, 'random_state': 42}"
      ]
     },
     "execution_count": 33,
     "metadata": {},
     "output_type": "execute_result"
    }
   ],
   "source": [
    "logreg_gs.best_params_"
   ]
  },
  {
   "cell_type": "code",
   "execution_count": 34,
   "id": "2b507d53",
   "metadata": {},
   "outputs": [
    {
     "data": {
      "text/plain": [
       "0.6044"
      ]
     },
     "execution_count": 34,
     "metadata": {},
     "output_type": "execute_result"
    }
   ],
   "source": [
    "round(logreg_gs.best_score_, 4)"
   ]
  },
  {
   "cell_type": "code",
   "execution_count": 35,
   "id": "0e548af0",
   "metadata": {},
   "outputs": [
    {
     "data": {
      "text/plain": [
       "array([5, 5, 5, 5, 5, 6, 6, 5, 5, 6, 5, 6, 5, 6, 5, 5, 6, 6, 5, 6, 5, 5,\n",
       "       6, 5, 5, 5, 5, 5, 6, 6, 6, 6, 6, 6, 5, 5, 6, 6, 6, 6, 6, 5, 5, 6,\n",
       "       6, 6, 5, 5, 6, 5, 5, 5, 6, 5, 6, 5, 5, 6, 5, 6, 5, 5, 5, 6, 6, 5,\n",
       "       6, 6, 6, 6, 6, 6, 5, 5, 5, 6, 5, 5, 5, 6, 5, 6, 6, 5, 5, 6, 6, 5,\n",
       "       5, 6, 6, 6, 6, 5, 5, 5, 7, 5, 6, 5, 6, 5, 5, 6, 5, 6, 6, 5, 5, 5,\n",
       "       5, 5, 6, 5, 5, 6, 5, 6, 6, 5, 5, 5, 6, 5, 6, 5, 5, 5, 6, 5, 6, 5,\n",
       "       6, 5, 6, 6, 6, 5, 5, 6, 6, 5, 5, 5, 5, 6, 6, 6, 6, 6, 5, 6, 5, 5,\n",
       "       5, 6, 5, 5, 5, 6, 5, 6, 6, 5, 6, 6, 6, 6, 7, 5, 5, 6, 6, 6, 7, 6,\n",
       "       5, 6, 6, 6, 5, 6, 5, 6, 7, 5, 6, 5, 6, 6, 5, 5, 6, 5, 5, 6, 5, 6,\n",
       "       5, 5, 6, 6, 6, 5, 5, 6, 6, 5, 5, 5, 5, 6, 5, 5, 6, 5, 6, 6, 6, 6,\n",
       "       6, 6, 5, 7, 5, 7, 5, 6, 5, 5, 6, 6, 5, 6, 6, 5], dtype=int64)"
      ]
     },
     "execution_count": 35,
     "metadata": {},
     "output_type": "execute_result"
    }
   ],
   "source": [
    "y_pred_logreg_gs = logreg_gs.predict(X_test)\n",
    "y_pred_logreg_gs"
   ]
  },
  {
   "cell_type": "markdown",
   "id": "b93e2050",
   "metadata": {},
   "source": [
    "# Building model\n"
   ]
  },
  {
   "cell_type": "code",
   "execution_count": 36,
   "id": "aabeac3a",
   "metadata": {},
   "outputs": [
    {
     "data": {
      "text/plain": [
       "RandomForestClassifier()"
      ]
     },
     "execution_count": 36,
     "metadata": {},
     "output_type": "execute_result"
    }
   ],
   "source": [
    "from sklearn.ensemble import RandomForestClassifier\n",
    "rfc = RandomForestClassifier()\n",
    "rfc.fit(X_train, y_train)"
   ]
  },
  {
   "cell_type": "code",
   "execution_count": 37,
   "id": "f13714a7",
   "metadata": {},
   "outputs": [
    {
     "name": "stdout",
     "output_type": "stream",
     "text": [
      "              precision    recall  f1-score   support\n",
      "\n",
      "           4       0.00      0.00      0.00         0\n",
      "           5       0.79      0.75      0.77       113\n",
      "           6       0.76      0.64      0.70       107\n",
      "           7       0.38      0.62      0.48        16\n",
      "\n",
      "    accuracy                           0.69       236\n",
      "   macro avg       0.48      0.51      0.49       236\n",
      "weighted avg       0.75      0.69      0.72       236\n",
      "\n"
     ]
    }
   ],
   "source": [
    "y_pred = rfc.predict(X_test)\n",
    "print(classification_report(y_pred, y_test))"
   ]
  },
  {
   "cell_type": "code",
   "execution_count": 38,
   "id": "d31a9ec9",
   "metadata": {},
   "outputs": [
    {
     "name": "stdout",
     "output_type": "stream",
     "text": [
      "Model accuracy score: 0.6949\n"
     ]
    }
   ],
   "source": [
    "model_rf_accuracy = accuracy_score(y_test, y_pred)\n",
    "print('Model accuracy score: {0:0.4f}'. format(model_rf_accuracy))"
   ]
  },
  {
   "cell_type": "code",
   "execution_count": 39,
   "id": "752cdc67",
   "metadata": {},
   "outputs": [],
   "source": [
    "from sklearn.model_selection import KFold, StratifiedKFold,cross_val_score, cross_val_predict"
   ]
  },
  {
   "cell_type": "markdown",
   "id": "080c7a0b",
   "metadata": {},
   "source": [
    "# Cross Validation - Kfold Validation"
   ]
  },
  {
   "cell_type": "code",
   "execution_count": 40,
   "id": "9971d068",
   "metadata": {},
   "outputs": [
    {
     "name": "stdout",
     "output_type": "stream",
     "text": [
      "0.67 accuracy with a standard deviation of 0.01\n"
     ]
    }
   ],
   "source": [
    "\n",
    "\n",
    "cv1 = KFold(n_splits=2, random_state = 12, shuffle=True)      \n",
    "scores_kfold = cross_val_score(rfc, X, y, scoring='accuracy', cv=cv1, n_jobs=-1)\n",
    "scores_kfold\n",
    "print(\"%0.2f accuracy with a standard deviation of %0.2f\" % (scores_kfold.mean(), scores_kfold.std()))"
   ]
  },
  {
   "cell_type": "markdown",
   "id": "250215ee",
   "metadata": {},
   "source": [
    "# Stratified cross validation\n"
   ]
  },
  {
   "cell_type": "code",
   "execution_count": 41,
   "id": "0fd9e1f2",
   "metadata": {},
   "outputs": [
    {
     "name": "stdout",
     "output_type": "stream",
     "text": [
      "0.69 accuracy with a standard deviation of 0.00\n"
     ]
    }
   ],
   "source": [
    "# Cross Validation - Kfold Validation\n",
    "skfold = StratifiedKFold(n_splits=3, random_state=100, shuffle=True)\n",
    "scores_skfold = cross_val_score(rfc, X, y, scoring='accuracy', cv=skfold, n_jobs=-1)\n",
    "scores_skfold\n",
    "print(\"%0.2f accuracy with a standard deviation of %0.2f\" % (scores_skfold.mean(), scores_skfold.std()))"
   ]
  },
  {
   "cell_type": "code",
   "execution_count": 42,
   "id": "e24d2fd8",
   "metadata": {},
   "outputs": [],
   "source": [
    "# hyper parameter tuning\n",
    "\n",
    "grid = { \n",
    "    'n_estimators': [200,300,400],\n",
    "    'max_features': ['sqrt', 'log2'],\n",
    "    'max_depth' : [4,5,6,7],\n",
    "    'criterion' :['gini', 'entropy'],\n",
    "    'random_state' : [18]\n",
    "}"
   ]
  },
  {
   "cell_type": "code",
   "execution_count": 43,
   "id": "3c8410e5",
   "metadata": {},
   "outputs": [
    {
     "data": {
      "text/plain": [
       "GridSearchCV(cv=2, error_score=0, estimator=RandomForestClassifier(), n_jobs=-1,\n",
       "             param_grid={'criterion': ['gini', 'entropy'],\n",
       "                         'max_depth': [4, 5, 6, 7],\n",
       "                         'max_features': ['sqrt', 'log2'],\n",
       "                         'n_estimators': [200, 300, 400],\n",
       "                         'random_state': [18]})"
      ]
     },
     "execution_count": 43,
     "metadata": {},
     "output_type": "execute_result"
    }
   ],
   "source": [
    "rf_cv = GridSearchCV(rfc, param_grid=grid, n_jobs=-1, cv= 2, error_score=0)\n",
    "rf_cv.fit(X_train, y_train)"
   ]
  },
  {
   "cell_type": "code",
   "execution_count": 44,
   "id": "f188ff61",
   "metadata": {},
   "outputs": [
    {
     "data": {
      "text/plain": [
       "{'criterion': 'gini',\n",
       " 'max_depth': 7,\n",
       " 'max_features': 'sqrt',\n",
       " 'n_estimators': 300,\n",
       " 'random_state': 18}"
      ]
     },
     "execution_count": 44,
     "metadata": {},
     "output_type": "execute_result"
    }
   ],
   "source": [
    "rf_cv.best_params_"
   ]
  },
  {
   "cell_type": "markdown",
   "id": "5bf4fdcb",
   "metadata": {},
   "source": [
    "# Feature Selection and Rebuild"
   ]
  },
  {
   "cell_type": "code",
   "execution_count": 45,
   "id": "c8d782fc",
   "metadata": {},
   "outputs": [
    {
     "data": {
      "text/html": [
       "<div>\n",
       "<style scoped>\n",
       "    .dataframe tbody tr th:only-of-type {\n",
       "        vertical-align: middle;\n",
       "    }\n",
       "\n",
       "    .dataframe tbody tr th {\n",
       "        vertical-align: top;\n",
       "    }\n",
       "\n",
       "    .dataframe thead th {\n",
       "        text-align: right;\n",
       "    }\n",
       "</style>\n",
       "<table border=\"1\" class=\"dataframe\">\n",
       "  <thead>\n",
       "    <tr style=\"text-align: right;\">\n",
       "      <th></th>\n",
       "      <th>fixed acidity</th>\n",
       "      <th>volatile acidity</th>\n",
       "      <th>citric acid</th>\n",
       "      <th>residual sugar</th>\n",
       "      <th>chlorides</th>\n",
       "      <th>free sulfur dioxide</th>\n",
       "      <th>total sulfur dioxide</th>\n",
       "      <th>density</th>\n",
       "      <th>pH</th>\n",
       "      <th>sulphates</th>\n",
       "      <th>alcohol</th>\n",
       "      <th>quality</th>\n",
       "    </tr>\n",
       "  </thead>\n",
       "  <tbody>\n",
       "    <tr>\n",
       "      <th>0</th>\n",
       "      <td>0.319444</td>\n",
       "      <td>0.655367</td>\n",
       "      <td>0.000000</td>\n",
       "      <td>0.291667</td>\n",
       "      <td>0.448718</td>\n",
       "      <td>0.243902</td>\n",
       "      <td>0.241379</td>\n",
       "      <td>0.629630</td>\n",
       "      <td>0.770270</td>\n",
       "      <td>0.353846</td>\n",
       "      <td>0.148936</td>\n",
       "      <td>0.333333</td>\n",
       "    </tr>\n",
       "    <tr>\n",
       "      <th>1</th>\n",
       "      <td>0.375000</td>\n",
       "      <td>0.858757</td>\n",
       "      <td>0.000000</td>\n",
       "      <td>0.583333</td>\n",
       "      <td>0.730769</td>\n",
       "      <td>0.585366</td>\n",
       "      <td>0.525862</td>\n",
       "      <td>0.513889</td>\n",
       "      <td>0.351351</td>\n",
       "      <td>0.538462</td>\n",
       "      <td>0.234043</td>\n",
       "      <td>0.333333</td>\n",
       "    </tr>\n",
       "    <tr>\n",
       "      <th>2</th>\n",
       "      <td>0.375000</td>\n",
       "      <td>0.723164</td>\n",
       "      <td>0.054795</td>\n",
       "      <td>0.458333</td>\n",
       "      <td>0.653846</td>\n",
       "      <td>0.341463</td>\n",
       "      <td>0.413793</td>\n",
       "      <td>0.537037</td>\n",
       "      <td>0.432432</td>\n",
       "      <td>0.492308</td>\n",
       "      <td>0.234043</td>\n",
       "      <td>0.333333</td>\n",
       "    </tr>\n",
       "    <tr>\n",
       "      <th>3</th>\n",
       "      <td>0.847222</td>\n",
       "      <td>0.180791</td>\n",
       "      <td>0.767123</td>\n",
       "      <td>0.291667</td>\n",
       "      <td>0.435897</td>\n",
       "      <td>0.390244</td>\n",
       "      <td>0.465517</td>\n",
       "      <td>0.652778</td>\n",
       "      <td>0.297297</td>\n",
       "      <td>0.384615</td>\n",
       "      <td>0.234043</td>\n",
       "      <td>0.666667</td>\n",
       "    </tr>\n",
       "    <tr>\n",
       "      <th>4</th>\n",
       "      <td>0.319444</td>\n",
       "      <td>0.655367</td>\n",
       "      <td>0.000000</td>\n",
       "      <td>0.291667</td>\n",
       "      <td>0.448718</td>\n",
       "      <td>0.243902</td>\n",
       "      <td>0.241379</td>\n",
       "      <td>0.629630</td>\n",
       "      <td>0.770270</td>\n",
       "      <td>0.353846</td>\n",
       "      <td>0.148936</td>\n",
       "      <td>0.333333</td>\n",
       "    </tr>\n",
       "  </tbody>\n",
       "</table>\n",
       "</div>"
      ],
      "text/plain": [
       "   fixed acidity  volatile acidity  citric acid  residual sugar  chlorides  \\\n",
       "0       0.319444          0.655367     0.000000        0.291667   0.448718   \n",
       "1       0.375000          0.858757     0.000000        0.583333   0.730769   \n",
       "2       0.375000          0.723164     0.054795        0.458333   0.653846   \n",
       "3       0.847222          0.180791     0.767123        0.291667   0.435897   \n",
       "4       0.319444          0.655367     0.000000        0.291667   0.448718   \n",
       "\n",
       "   free sulfur dioxide  total sulfur dioxide   density        pH  sulphates  \\\n",
       "0             0.243902              0.241379  0.629630  0.770270   0.353846   \n",
       "1             0.585366              0.525862  0.513889  0.351351   0.538462   \n",
       "2             0.341463              0.413793  0.537037  0.432432   0.492308   \n",
       "3             0.390244              0.465517  0.652778  0.297297   0.384615   \n",
       "4             0.243902              0.241379  0.629630  0.770270   0.353846   \n",
       "\n",
       "    alcohol   quality  \n",
       "0  0.148936  0.333333  \n",
       "1  0.234043  0.333333  \n",
       "2  0.234043  0.333333  \n",
       "3  0.234043  0.666667  \n",
       "4  0.148936  0.333333  "
      ]
     },
     "execution_count": 45,
     "metadata": {},
     "output_type": "execute_result"
    }
   ],
   "source": [
    "from sklearn.preprocessing import MinMaxScaler\n",
    "\n",
    "scaler = MinMaxScaler(feature_range=(0,1)) \n",
    "\n",
    "#assign scaler to column:\n",
    "df_scaled = pd.DataFrame(scaler.fit_transform(df), columns=df.columns)\n",
    "\n",
    "df_scaled.head()"
   ]
  },
  {
   "cell_type": "code",
   "execution_count": 46,
   "id": "2d27f3b8",
   "metadata": {},
   "outputs": [],
   "source": [
    "# Sefrom sklearn.feature_selection import SelectKBest\n",
    "from sklearn.feature_selection import chi2\n",
    "from sklearn.feature_selection import SelectKBest\n",
    "\n",
    "best_features = SelectKBest(chi2, k=3)\n",
    "fit = best_features.fit(X, y)\n",
    "\n"
   ]
  },
  {
   "cell_type": "markdown",
   "id": "bbde233b",
   "metadata": {},
   "source": [
    "<h3>Chi2 returns 2 value (F score and P value)</h3>"
   ]
  },
  {
   "cell_type": "code",
   "execution_count": 47,
   "id": "6d09671a",
   "metadata": {},
   "outputs": [],
   "source": [
    "f_p_value=chi2(X_train,y_train)"
   ]
  },
  {
   "cell_type": "code",
   "execution_count": 48,
   "id": "c87ddca1",
   "metadata": {},
   "outputs": [
    {
     "name": "stdout",
     "output_type": "stream",
     "text": [
      "(array([4.47938160e+00, 5.98217834e+00, 6.56550529e+00, 1.40607761e-01,\n",
      "       1.28590732e-01, 8.99586405e+01, 9.03495876e+02, 1.44732128e-04,\n",
      "       7.19011157e-02, 3.23085050e+00, 2.24668766e+01]), array([2.14136791e-001, 1.12480514e-001, 8.71146275e-002, 9.86554191e-001,\n",
      "       9.88198394e-001, 2.23583937e-019, 1.54435204e-195, 9.99999537e-001,\n",
      "       9.94981503e-001, 3.57383503e-001, 5.21519360e-005]))\n"
     ]
    }
   ],
   "source": [
    "print(f_p_value)"
   ]
  },
  {
   "cell_type": "code",
   "execution_count": 49,
   "id": "6a19dd8b",
   "metadata": {},
   "outputs": [
    {
     "data": {
      "text/plain": [
       "fixed acidity            2.141368e-01\n",
       "volatile acidity         1.124805e-01\n",
       "citric acid              8.711463e-02\n",
       "residual sugar           9.865542e-01\n",
       "chlorides                9.881984e-01\n",
       "free sulfur dioxide      2.235839e-19\n",
       "total sulfur dioxide    1.544352e-195\n",
       "density                  9.999995e-01\n",
       "pH                       9.949815e-01\n",
       "sulphates                3.573835e-01\n",
       "alcohol                  5.215194e-05\n",
       "dtype: float64"
      ]
     },
     "execution_count": 49,
     "metadata": {},
     "output_type": "execute_result"
    }
   ],
   "source": [
    "p_values = pd.Series(f_p_value[1])\n",
    "p_values.index=X_train.columns\n",
    "p_values"
   ]
  },
  {
   "cell_type": "code",
   "execution_count": 50,
   "id": "f5c67e37",
   "metadata": {},
   "outputs": [
    {
     "data": {
      "text/plain": [
       "alcohol                  5.215194e-05\n",
       "chlorides                9.881984e-01\n",
       "citric acid              8.711463e-02\n",
       "density                  9.999995e-01\n",
       "fixed acidity            2.141368e-01\n",
       "free sulfur dioxide      2.235839e-19\n",
       "pH                       9.949815e-01\n",
       "residual sugar           9.865542e-01\n",
       "sulphates                3.573835e-01\n",
       "total sulfur dioxide    1.544352e-195\n",
       "volatile acidity         1.124805e-01\n",
       "dtype: float64"
      ]
     },
     "execution_count": 50,
     "metadata": {},
     "output_type": "execute_result"
    }
   ],
   "source": [
    "p_values.sort_index(ascending=True)"
   ]
  },
  {
   "cell_type": "markdown",
   "id": "e702e505",
   "metadata": {},
   "source": [
    "# Observation"
   ]
  },
  {
   "cell_type": "markdown",
   "id": "6688af83",
   "metadata": {},
   "source": [
    "here costumer rating is the most important feature among all the features.</br>\n",
    "if costumer rating is high then rating of the hotel room is also higher."
   ]
  },
  {
   "cell_type": "markdown",
   "id": "a8eca99c",
   "metadata": {},
   "source": [
    "Selecting top 5 important feature for feature selection"
   ]
  },
  {
   "cell_type": "code",
   "execution_count": 51,
   "id": "6e9d47f5",
   "metadata": {},
   "outputs": [],
   "source": [
    "X_new = df[['alcohol','chlorides','citric acid','density','fixed acidity']].copy()"
   ]
  },
  {
   "cell_type": "markdown",
   "id": "1d6216e1",
   "metadata": {},
   "source": [
    "# Spliting Data to Train and Test "
   ]
  },
  {
   "cell_type": "code",
   "execution_count": 52,
   "id": "0928e7b2",
   "metadata": {},
   "outputs": [],
   "source": [
    "from sklearn.model_selection import train_test_split\n",
    "x=X_new\n",
    "xtrain, xtest, ytrain, ytest = train_test_split(x, y, test_size = 0.20, random_state = 18)"
   ]
  },
  {
   "cell_type": "markdown",
   "id": "c9c9c0e7",
   "metadata": {},
   "source": [
    "# Building model"
   ]
  },
  {
   "cell_type": "code",
   "execution_count": 53,
   "id": "1efc24a6",
   "metadata": {},
   "outputs": [],
   "source": [
    "from sklearn.metrics import accuracy_score, auc, roc_curve, roc_auc_score, mean_squared_error\n",
    "from sklearn.metrics import f1_score, precision_score, recall_score,accuracy_score\n",
    "def Models(model, name, d):\n",
    "    print(\"Working on {} model\".format(name))\n",
    "    \n",
    "    cla = model\n",
    "    cla.fit(xtrain, ytrain)\n",
    "    \n",
    "    predicted = cla.predict(xtrain)\n",
    "    tr_auc = accuracy_score(predicted, ytrain)*100\n",
    "#     print(\"Print accuracy on Training data is {}\".format(tr_auc))\n",
    "    \n",
    "    predicted = cla.predict(xtest)\n",
    "    te_auc = accuracy_score(predicted, ytest)*100\n",
    "\n",
    "    Recall = recall_score(predicted, ytest, average = 'micro')\n",
    "    \n",
    "    Precision = precision_score(predicted, ytest, average = 'micro')\n",
    "    \n",
    "    F1 = f1_score(predicted, ytest, average = 'micro')\n",
    "    \n",
    "    MSE = mean_squared_error(predicted, ytest)\n",
    "    \n",
    "    \n",
    "    \n",
    "    \n",
    "    d['Name'].append(name)\n",
    "    d['Training ACU'].append(tr_auc)\n",
    "    d['Testing ACU'].append(te_auc)\n",
    "    d['Recall'].append(Recall)\n",
    "    d['Precision'].append(Precision)\n",
    "    d['F1_Score'].append(F1)\n",
    "    d['MSE'].append(MSE)\n",
    "   \n",
    "    \n",
    "    print(\"**********\")\n",
    "    print()\n",
    "    return d"
   ]
  },
  {
   "cell_type": "code",
   "execution_count": 54,
   "id": "2feab329",
   "metadata": {},
   "outputs": [
    {
     "name": "stdout",
     "output_type": "stream",
     "text": [
      "Working on Random Forest model\n",
      "**********\n",
      "\n",
      "Working on Decision Tree model\n",
      "**********\n",
      "\n",
      "Working on K nearest neghbour model\n",
      "**********\n",
      "\n",
      "Working on Logistic Regression model\n",
      "**********\n",
      "\n"
     ]
    }
   ],
   "source": [
    "from sklearn.ensemble import RandomForestClassifier\n",
    "from sklearn.tree import DecisionTreeClassifier\n",
    "from sklearn.linear_model import LogisticRegression\n",
    "\n",
    "\n",
    "d = {'Name' : [], 'Training ACU': [], 'Testing ACU': [], 'Recall': [], 'Precision': [], 'F1_Score': [], 'MSE': []}\n",
    "models = [ [RandomForestClassifier('criterion': 'gini',\n",
    " 'max_depth': 7,\n",
    " 'max_features': 'sqrt',\n",
    " 'n_estimators': 300,\n",
    " 'random_state': 18), 'Random Forest'],[DecisionTreeClassifier(), 'Decision Tree'],[KNeighborsClassifier('knn__leaf_size': 15, 'knn__n_neighbors': 9, 'knn__weights': 'distance'),'K nearest neghbour'], [LogisticRegression(), 'Logistic Regression']]\n",
    "          \n",
    "for model in models:\n",
    "    d = Models(model[0], model[1], d)\n",
    "\n",
    "acu_data = pd.DataFrame(data = d)"
   ]
  },
  {
   "cell_type": "markdown",
   "id": "cc0d0d6c",
   "metadata": {},
   "source": [
    "# Print the Data from each model"
   ]
  },
  {
   "cell_type": "code",
   "execution_count": 55,
   "id": "41db74cb",
   "metadata": {},
   "outputs": [
    {
     "data": {
      "text/html": [
       "<div>\n",
       "<style scoped>\n",
       "    .dataframe tbody tr th:only-of-type {\n",
       "        vertical-align: middle;\n",
       "    }\n",
       "\n",
       "    .dataframe tbody tr th {\n",
       "        vertical-align: top;\n",
       "    }\n",
       "\n",
       "    .dataframe thead th {\n",
       "        text-align: right;\n",
       "    }\n",
       "</style>\n",
       "<table border=\"1\" class=\"dataframe\">\n",
       "  <thead>\n",
       "    <tr style=\"text-align: right;\">\n",
       "      <th></th>\n",
       "      <th>Name</th>\n",
       "      <th>Training ACU</th>\n",
       "      <th>Testing ACU</th>\n",
       "      <th>Recall</th>\n",
       "      <th>Precision</th>\n",
       "      <th>F1_Score</th>\n",
       "      <th>MSE</th>\n",
       "    </tr>\n",
       "  </thead>\n",
       "  <tbody>\n",
       "    <tr>\n",
       "      <th>0</th>\n",
       "      <td>Random Forest</td>\n",
       "      <td>100.000000</td>\n",
       "      <td>69.067797</td>\n",
       "      <td>0.690678</td>\n",
       "      <td>0.690678</td>\n",
       "      <td>0.690678</td>\n",
       "      <td>0.385593</td>\n",
       "    </tr>\n",
       "    <tr>\n",
       "      <th>1</th>\n",
       "      <td>Decision Tree</td>\n",
       "      <td>100.000000</td>\n",
       "      <td>61.864407</td>\n",
       "      <td>0.618644</td>\n",
       "      <td>0.618644</td>\n",
       "      <td>0.618644</td>\n",
       "      <td>0.516949</td>\n",
       "    </tr>\n",
       "    <tr>\n",
       "      <th>2</th>\n",
       "      <td>K nearest neghbour</td>\n",
       "      <td>65.535525</td>\n",
       "      <td>56.779661</td>\n",
       "      <td>0.567797</td>\n",
       "      <td>0.567797</td>\n",
       "      <td>0.567797</td>\n",
       "      <td>0.584746</td>\n",
       "    </tr>\n",
       "    <tr>\n",
       "      <th>3</th>\n",
       "      <td>Logistic Regression</td>\n",
       "      <td>58.006363</td>\n",
       "      <td>63.135593</td>\n",
       "      <td>0.631356</td>\n",
       "      <td>0.631356</td>\n",
       "      <td>0.631356</td>\n",
       "      <td>0.406780</td>\n",
       "    </tr>\n",
       "  </tbody>\n",
       "</table>\n",
       "</div>"
      ],
      "text/plain": [
       "                  Name  Training ACU  Testing ACU    Recall  Precision  \\\n",
       "0        Random Forest    100.000000    69.067797  0.690678   0.690678   \n",
       "1        Decision Tree    100.000000    61.864407  0.618644   0.618644   \n",
       "2   K nearest neghbour     65.535525    56.779661  0.567797   0.567797   \n",
       "3  Logistic Regression     58.006363    63.135593  0.631356   0.631356   \n",
       "\n",
       "   F1_Score       MSE  \n",
       "0  0.690678  0.385593  \n",
       "1  0.618644  0.516949  \n",
       "2  0.567797  0.584746  \n",
       "3  0.631356  0.406780  "
      ]
     },
     "execution_count": 55,
     "metadata": {},
     "output_type": "execute_result"
    }
   ],
   "source": [
    "acu_data"
   ]
  },
  {
   "cell_type": "markdown",
   "id": "d6805bb1",
   "metadata": {},
   "source": [
    "# Conclusion\n"
   ]
  },
  {
   "cell_type": "markdown",
   "id": "9248411c",
   "metadata": {},
   "source": [
    "Here random forest and desion tree are having very high accuracy but the mean square error for random forest is lower than desion tree so random forest is the best model to use for traning this dataset."
   ]
  },
  {
   "cell_type": "code",
   "execution_count": null,
   "id": "4f23f0e4",
   "metadata": {},
   "outputs": [],
   "source": []
  }
 ],
 "metadata": {
  "kernelspec": {
   "display_name": "Python 3 (ipykernel)",
   "language": "python",
   "name": "python3"
  },
  "language_info": {
   "codemirror_mode": {
    "name": "ipython",
    "version": 3
   },
   "file_extension": ".py",
   "mimetype": "text/x-python",
   "name": "python",
   "nbconvert_exporter": "python",
   "pygments_lexer": "ipython3",
   "version": "3.10.2"
  }
 },
 "nbformat": 4,
 "nbformat_minor": 5
}
